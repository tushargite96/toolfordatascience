{
 "cells": [
  {
   "cell_type": "markdown",
   "id": "891a66fd-51df-401d-b5d6-a811e7e25593",
   "metadata": {},
   "source": [
    "Data Science Tools and Ecosystem"
   ]
  },
  {
   "cell_type": "markdown",
   "id": "80f557f1-0b84-4367-b25b-b6b8eed969e3",
   "metadata": {},
   "source": [
    "In this notebook, Data Science Tools and Ecosystem are summarized."
   ]
  },
  {
   "cell_type": "markdown",
   "id": "ceac67dc-bb5c-454d-a9b1-cc0a2472ad6d",
   "metadata": {},
   "source": [
    "Some of the popular languages that Data Scientists use are:"
   ]
  },
  {
   "cell_type": "raw",
   "id": "f01cef0f-c3c0-4cfd-a2ab-6f781a2b91e7",
   "metadata": {},
   "source": [
    "1.Python.\n",
    "2.R.\n",
    "3.SQL.\n",
    "4.Java.\n",
    "5.Julia."
   ]
  },
  {
   "cell_type": "markdown",
   "id": "0eb70c47-e47e-4ad7-a32f-f087f5d372d7",
   "metadata": {},
   "source": [
    "Some of the commonly used libraries used by Data Scientists include:"
   ]
  },
  {
   "cell_type": "raw",
   "id": "cc1f97a4-bb55-4b3e-938a-f13219fbcbce",
   "metadata": {},
   "source": [
    "1.TensorFlow.\n",
    "2.NumPy.\n",
    "3.SciPy.\n",
    "4.Pandas.\n",
    "5.Matplotlib.\n",
    "6.Keras."
   ]
  },
  {
   "cell_type": "markdown",
   "id": "adb4e901-1387-4aa8-9485-d2bd0d34455a",
   "metadata": {},
   "source": [
    "<b>Data Science Tools:<b>"
   ]
  },
  {
   "cell_type": "markdown",
   "id": "ffa6c211-776a-48e1-9b30-39a0a3d0e0c9",
   "metadata": {},
   "source": [
    "<table>\n",
    "  <tr>\n",
    "    <p style=\"background-color:Tomato;\">SAS. It is one of those data science tools which are specifically designed for statistical operation</p>\n",
    "  </tr>\n",
    "  <tr>\n",
    "    <p style=\"background-color:green;\">Apache Spark</p>\n",
    "  </tr>\n",
    "  <tr>\n",
    "    <p style=\"background-color:yellow;\">BigML</p>\n",
    "  </tr>\n",
    "</table>"
   ]
  },
  {
   "cell_type": "markdown",
   "id": "a6604e04-c1a5-475b-b141-c51a476cd641",
   "metadata": {},
   "source": [
    "<h3>Below are a few examples of evaluating arithmetic expressions in Python</h3>"
   ]
  },
  {
   "cell_type": "code",
   "execution_count": 9,
   "id": "f26a6d22-62a8-47b7-b988-7c9bdf4ead90",
   "metadata": {},
   "outputs": [
    {
     "data": {
      "text/plain": [
       "24"
      ]
     },
     "execution_count": 9,
     "metadata": {},
     "output_type": "execute_result"
    }
   ],
   "source": [
    "c1 = compile(\"(5 + 7) * 2\", \"<string>\", \"eval\")\n",
    "eval(c1)"
   ]
  },
  {
   "cell_type": "code",
   "execution_count": 6,
   "id": "a0cbe0fb-cebe-473a-8a4d-4780439cb4f9",
   "metadata": {},
   "outputs": [
    {
     "data": {
      "text/plain": [
       "9"
      ]
     },
     "execution_count": 6,
     "metadata": {},
     "output_type": "execute_result"
    }
   ],
   "source": [
    "c2 = compile(\"5 + 4\", \"<string>\", \"eval\")\n",
    "eval(c2)"
   ]
  },
  {
   "cell_type": "markdown",
   "id": "85ff9425-85c5-4555-9f19-9df1b8982f8d",
   "metadata": {},
   "source": [
    "This a simple arithmetic expression to mutiply then add integers"
   ]
  },
  {
   "cell_type": "code",
   "execution_count": 10,
   "id": "3de19d96-ddf4-44fb-8ca3-ce8dc74ae09f",
   "metadata": {},
   "outputs": [
    {
     "data": {
      "text/plain": [
       "17"
      ]
     },
     "execution_count": 10,
     "metadata": {},
     "output_type": "execute_result"
    }
   ],
   "source": [
    "(3*4)+5"
   ]
  },
  {
   "cell_type": "markdown",
   "id": "27ebe497-a098-48ca-86e1-ee63b69a9deb",
   "metadata": {},
   "source": [
    "This will convert 200 minutes to hours by diving by 60"
   ]
  },
  {
   "cell_type": "code",
   "execution_count": 11,
   "id": "cc03b401-9ca3-4612-9ced-2607eb671498",
   "metadata": {},
   "outputs": [
    {
     "name": "stdout",
     "output_type": "stream",
     "text": [
      "0 days, 3.3333333333333335 hours, 0 mins. \n"
     ]
    }
   ],
   "source": [
    "days = 0\n",
    "hours = 0\n",
    "mins = 0\n",
    "\n",
    "time = 200\n",
    "#days = time / 1440\n",
    "leftover_minutes = time % 1440\n",
    "hours = leftover_minutes / 60\n",
    "#mins = time - (days*1440) - (hours*60)\n",
    "print(str(days) + \" days, \" + str(hours) + \" hours, \" + str(mins) +  \" mins. \")"
   ]
  },
  {
   "cell_type": "markdown",
   "id": "7ad3c0b3-0096-4232-9844-99acbd4a427d",
   "metadata": {},
   "source": [
    "<h1>Objective of this notebook : Practice for exam<h1>\n",
    "\n"
   ]
  },
  {
   "cell_type": "markdown",
   "id": "0d981758-bc2b-44c2-a08f-9fa7f2c2aaaf",
   "metadata": {},
   "source": [
    "Objective"
   ]
  },
  {
   "cell_type": "markdown",
   "id": "1ba051d6-a786-4c65-b618-068bfb8bbd3b",
   "metadata": {},
   "source": [
    "1. practice creating a notebook\n"
   ]
  },
  {
   "cell_type": "markdown",
   "id": "e07bfa41-4dbd-49d3-b02c-562c86a99b63",
   "metadata": {},
   "source": [
    "2. Practice performing some operatio on cells"
   ]
  },
  {
   "cell_type": "markdown",
   "id": "a0043744-c2fd-4e4f-b25a-7b10a35a1b17",
   "metadata": {},
   "source": [
    "3. Practice some arithmatic operatins"
   ]
  },
  {
   "cell_type": "markdown",
   "id": "e4e922b3-6249-4057-9269-fbf9d544baa5",
   "metadata": {},
   "source": [
    "This notebook contains \"List popular languages for Data Science\""
   ]
  },
  {
   "cell_type": "markdown",
   "id": "22fd25a3-6677-4b7a-b08a-dff8dd7b8687",
   "metadata": {},
   "source": [
    "<h2>Author</h2>"
   ]
  },
  {
   "cell_type": "markdown",
   "id": "602db18b-1a0e-4f86-b964-91c7332d095c",
   "metadata": {},
   "source": [
    "Tushar Gite"
   ]
  },
  {
   "cell_type": "code",
   "execution_count": null,
   "id": "23e56165-8ae2-44d2-adb3-6916292cb88f",
   "metadata": {},
   "outputs": [],
   "source": []
  }
 ],
 "metadata": {
  "kernelspec": {
   "display_name": "Python 3 (ipykernel)",
   "language": "python",
   "name": "python3"
  },
  "language_info": {
   "codemirror_mode": {
    "name": "ipython",
    "version": 3
   },
   "file_extension": ".py",
   "mimetype": "text/x-python",
   "name": "python",
   "nbconvert_exporter": "python",
   "pygments_lexer": "ipython3",
   "version": "3.11.9"
  }
 },
 "nbformat": 4,
 "nbformat_minor": 5
}
